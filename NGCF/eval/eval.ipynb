{
 "cells": [
  {
   "cell_type": "code",
   "execution_count": 18,
   "metadata": {},
   "outputs": [
    {
     "name": "stdout",
     "output_type": "stream",
     "text": [
      "The autoreload extension is already loaded. To reload it, use:\n",
      "  %reload_ext autoreload\n"
     ]
    }
   ],
   "source": [
    "import pickle\n",
    "import torch\n",
    "import sys\n",
    "sys.path.append('..')\n",
    "from utility.eval_elliptic import *\n",
    "import pandas as pd\n",
    "from NGCF import NGCF\n",
    "from eval import *\n",
    "from exp_config import *\n",
    "#autoreload \n",
    "%load_ext autoreload\n",
    "%autoreload 2"
   ]
  },
  {
   "cell_type": "code",
   "execution_count": 11,
   "metadata": {},
   "outputs": [
    {
     "name": "stdout",
     "output_type": "stream",
     "text": [
      "Loading Data Generator\n",
      "Loading Weights \n",
      "Loading Adj Mat\n",
      "already load adj matrix (89426, 89426) 0.01000833511352539\n"
     ]
    }
   ],
   "source": [
    "model_path_with = \"/skunk-pod-storage-mohamed-2eali-2edhraief-40ibm-2ecom-pvc/NGCF-PyTorch/NGCF/model/elliptic/with_feature/bs16_lr0.0001e300_nneg100_r[0]_drop_[0.1]\"\n",
    "model_with, data_generator_with, args_with = load_model_and_dg_args(model_path_with)"
   ]
  },
  {
   "cell_type": "code",
   "execution_count": 20,
   "metadata": {},
   "outputs": [
    {
     "name": "stderr",
     "output_type": "stream",
     "text": [
      "0it [00:00, ?it/s]"
     ]
    },
    {
     "name": "stdout",
     "output_type": "stream",
     "text": [
      "**************\n",
      "Running Experiment 0\n"
     ]
    },
    {
     "name": "stderr",
     "output_type": "stream",
     "text": [
      "Generating data: 100%|██████████| 256/256 [00:00<00:00, 8913.31it/s]\n"
     ]
    },
    {
     "name": "stdout",
     "output_type": "stream",
     "text": [
      "Evaluation 0HR: 1.0, NGCF: 0.9780113431537477 \n"
     ]
    },
    {
     "name": "stderr",
     "output_type": "stream",
     "text": [
      "Generating data: 100%|██████████| 256/256 [00:00<00:00, 21760.33it/s]\n"
     ]
    },
    {
     "name": "stdout",
     "output_type": "stream",
     "text": [
      "Evaluation 1HR: 1.0, NGCF: 0.9841415128487735 \n"
     ]
    },
    {
     "name": "stderr",
     "output_type": "stream",
     "text": [
      "Generating data: 100%|██████████| 256/256 [00:00<00:00, 22522.59it/s]\n",
      "1it [00:01,  1.05s/it]"
     ]
    },
    {
     "name": "stdout",
     "output_type": "stream",
     "text": [
      "Evaluation 2HR: 1.0, NGCF: 0.9804759125036363 \n",
      "**************\n",
      "**************\n",
      "Running Experiment 1\n"
     ]
    },
    {
     "name": "stderr",
     "output_type": "stream",
     "text": [
      "Generating data: 100%|██████████| 256/256 [00:00<00:00, 18635.20it/s]\n"
     ]
    },
    {
     "name": "stdout",
     "output_type": "stream",
     "text": [
      "Evaluation 0HR: 1.0, NGCF: 0.9637425339079414 \n"
     ]
    },
    {
     "name": "stderr",
     "output_type": "stream",
     "text": [
      "Generating data: 100%|██████████| 256/256 [00:00<00:00, 19541.77it/s]\n"
     ]
    },
    {
     "name": "stdout",
     "output_type": "stream",
     "text": [
      "Evaluation 1HR: 1.0, NGCF: 0.9689307659559672 \n"
     ]
    },
    {
     "name": "stderr",
     "output_type": "stream",
     "text": [
      "Generating data: 100%|██████████| 256/256 [00:00<00:00, 18985.46it/s]\n",
      "2it [00:02,  1.08s/it]"
     ]
    },
    {
     "name": "stdout",
     "output_type": "stream",
     "text": [
      "Evaluation 2HR: 1.0, NGCF: 0.9756162369320077 \n",
      "**************\n",
      "**************\n",
      "Running Experiment 2\n"
     ]
    },
    {
     "name": "stderr",
     "output_type": "stream",
     "text": [
      "Generating data: 100%|██████████| 256/256 [00:00<00:00, 14132.09it/s]\n"
     ]
    },
    {
     "name": "stdout",
     "output_type": "stream",
     "text": [
      "Evaluation 0HR: 1.0, NGCF: 0.9641708857032141 \n"
     ]
    },
    {
     "name": "stderr",
     "output_type": "stream",
     "text": [
      "Generating data: 100%|██████████| 256/256 [00:00<00:00, 15080.22it/s]\n"
     ]
    },
    {
     "name": "stdout",
     "output_type": "stream",
     "text": [
      "Evaluation 1HR: 0.99609375, NGCF: 0.9508441624840844 \n"
     ]
    },
    {
     "name": "stderr",
     "output_type": "stream",
     "text": [
      "Generating data: 100%|██████████| 256/256 [00:00<00:00, 14920.33it/s]\n",
      "3it [00:03,  1.18s/it]"
     ]
    },
    {
     "name": "stdout",
     "output_type": "stream",
     "text": [
      "Evaluation 2HR: 1.0, NGCF: 0.9551215536488084 \n",
      "**************\n",
      "**************\n",
      "Running Experiment 3\n"
     ]
    },
    {
     "name": "stderr",
     "output_type": "stream",
     "text": [
      "Generating data: 100%|██████████| 256/256 [00:00<00:00, 9777.29it/s]\n"
     ]
    },
    {
     "name": "stdout",
     "output_type": "stream",
     "text": [
      "Evaluation 0HR: 0.9921875, NGCF: 0.9132167314319999 \n"
     ]
    },
    {
     "name": "stderr",
     "output_type": "stream",
     "text": [
      "Generating data: 100%|██████████| 256/256 [00:00<00:00, 9939.11it/s]\n"
     ]
    },
    {
     "name": "stdout",
     "output_type": "stream",
     "text": [
      "Evaluation 1HR: 0.98828125, NGCF: 0.8924940789244727 \n"
     ]
    },
    {
     "name": "stderr",
     "output_type": "stream",
     "text": [
      "Generating data: 100%|██████████| 256/256 [00:00<00:00, 10134.90it/s]\n",
      "4it [00:05,  1.35s/it]"
     ]
    },
    {
     "name": "stdout",
     "output_type": "stream",
     "text": [
      "Evaluation 2HR: 0.99609375, NGCF: 0.9127785167045218 \n",
      "**************\n",
      "**************\n",
      "Running Experiment 4\n"
     ]
    },
    {
     "name": "stderr",
     "output_type": "stream",
     "text": [
      "Generating data: 100%|██████████| 256/256 [00:00<00:00, 6220.73it/s]\n"
     ]
    },
    {
     "name": "stdout",
     "output_type": "stream",
     "text": [
      "Evaluation 0HR: 0.98828125, NGCF: 0.8407915258527543 \n"
     ]
    },
    {
     "name": "stderr",
     "output_type": "stream",
     "text": [
      "Generating data: 100%|██████████| 256/256 [00:00<00:00, 6332.82it/s]\n"
     ]
    },
    {
     "name": "stdout",
     "output_type": "stream",
     "text": [
      "Evaluation 1HR: 0.984375, NGCF: 0.8464641006269713 \n"
     ]
    },
    {
     "name": "stderr",
     "output_type": "stream",
     "text": [
      "Generating data: 100%|██████████| 256/256 [00:00<00:00, 5414.46it/s]\n",
      "5it [00:07,  1.76s/it]"
     ]
    },
    {
     "name": "stdout",
     "output_type": "stream",
     "text": [
      "Evaluation 2HR: 0.98828125, NGCF: 0.8604678673464935 \n",
      "**************\n",
      "**************\n",
      "Running Experiment 5\n"
     ]
    },
    {
     "name": "stderr",
     "output_type": "stream",
     "text": [
      "Generating data: 100%|██████████| 256/256 [00:00<00:00, 3404.76it/s]\n"
     ]
    },
    {
     "name": "stdout",
     "output_type": "stream",
     "text": [
      "Evaluation 0HR: 0.96875, NGCF: 0.7622213979387055 \n"
     ]
    },
    {
     "name": "stderr",
     "output_type": "stream",
     "text": [
      "Generating data: 100%|██████████| 256/256 [00:00<00:00, 3475.64it/s]\n"
     ]
    },
    {
     "name": "stdout",
     "output_type": "stream",
     "text": [
      "Evaluation 1HR: 0.98046875, NGCF: 0.8227720342756886 \n"
     ]
    },
    {
     "name": "stderr",
     "output_type": "stream",
     "text": [
      "Generating data: 100%|██████████| 256/256 [00:00<00:00, 3442.11it/s]\n",
      "6it [00:11,  2.41s/it]"
     ]
    },
    {
     "name": "stdout",
     "output_type": "stream",
     "text": [
      "Evaluation 2HR: 0.984375, NGCF: 0.7793282793203552 \n",
      "**************\n",
      "**************\n",
      "Running Experiment 6\n"
     ]
    },
    {
     "name": "stderr",
     "output_type": "stream",
     "text": [
      "Generating data: 100%|██████████| 256/256 [00:00<00:00, 1905.97it/s]\n"
     ]
    },
    {
     "name": "stdout",
     "output_type": "stream",
     "text": [
      "Evaluation 0HR: 0.953125, NGCF: 0.6885405603563763 \n"
     ]
    },
    {
     "name": "stderr",
     "output_type": "stream",
     "text": [
      "Generating data: 100%|██████████| 256/256 [00:00<00:00, 1885.83it/s]\n"
     ]
    },
    {
     "name": "stdout",
     "output_type": "stream",
     "text": [
      "Evaluation 1HR: 0.94140625, NGCF: 0.6752776196137819 \n"
     ]
    },
    {
     "name": "stderr",
     "output_type": "stream",
     "text": [
      "Generating data: 100%|██████████| 256/256 [00:00<00:00, 1877.48it/s]\n",
      "7it [00:18,  3.85s/it]"
     ]
    },
    {
     "name": "stdout",
     "output_type": "stream",
     "text": [
      "Evaluation 2HR: 0.9375, NGCF: 0.6710645954479962 \n",
      "**************\n",
      "**************\n",
      "Running Experiment 7\n"
     ]
    },
    {
     "name": "stderr",
     "output_type": "stream",
     "text": [
      "Generating data: 100%|██████████| 256/256 [00:00<00:00, 967.02it/s]\n"
     ]
    },
    {
     "name": "stdout",
     "output_type": "stream",
     "text": [
      "Evaluation 0HR: 0.8828125, NGCF: 0.6380881277647708 \n"
     ]
    },
    {
     "name": "stderr",
     "output_type": "stream",
     "text": [
      "Generating data: 100%|██████████| 256/256 [00:00<00:00, 977.48it/s]\n"
     ]
    },
    {
     "name": "stdout",
     "output_type": "stream",
     "text": [
      "Evaluation 1HR: 0.83984375, NGCF: 0.5835419701254319 \n"
     ]
    },
    {
     "name": "stderr",
     "output_type": "stream",
     "text": [
      "Generating data: 100%|██████████| 256/256 [00:00<00:00, 966.05it/s]\n",
      "8it [00:30,  6.68s/it]"
     ]
    },
    {
     "name": "stdout",
     "output_type": "stream",
     "text": [
      "Evaluation 2HR: 0.85546875, NGCF: 0.607710959304528 \n",
      "**************\n",
      "**************\n",
      "Running Experiment 8\n"
     ]
    },
    {
     "name": "stderr",
     "output_type": "stream",
     "text": [
      "Generating data: 100%|██████████| 256/256 [00:00<00:00, 510.62it/s]\n"
     ]
    },
    {
     "name": "stdout",
     "output_type": "stream",
     "text": [
      "Evaluation 0HR: 0.7265625, NGCF: 0.5463002701805032 \n"
     ]
    },
    {
     "name": "stderr",
     "output_type": "stream",
     "text": [
      "Generating data: 100%|██████████| 256/256 [00:00<00:00, 496.39it/s]\n"
     ]
    },
    {
     "name": "stdout",
     "output_type": "stream",
     "text": [
      "Evaluation 1HR: 0.72265625, NGCF: 0.5609519727164308 \n"
     ]
    },
    {
     "name": "stderr",
     "output_type": "stream",
     "text": [
      "Generating data: 100%|██████████| 256/256 [00:00<00:00, 469.70it/s]\n",
      "9it [00:55, 12.41s/it]"
     ]
    },
    {
     "name": "stdout",
     "output_type": "stream",
     "text": [
      "Evaluation 2HR: 0.67578125, NGCF: 0.5143740512030194 \n",
      "**************\n",
      "**************\n",
      "Running Experiment 9\n"
     ]
    },
    {
     "name": "stderr",
     "output_type": "stream",
     "text": [
      "Generating data: 100%|██████████| 256/256 [00:01<00:00, 249.08it/s]\n"
     ]
    },
    {
     "name": "stdout",
     "output_type": "stream",
     "text": [
      "Evaluation 0HR: 0.51171875, NGCF: 0.411636186822618 \n"
     ]
    },
    {
     "name": "stderr",
     "output_type": "stream",
     "text": [
      "Generating data: 100%|██████████| 256/256 [00:01<00:00, 240.16it/s]\n"
     ]
    },
    {
     "name": "stdout",
     "output_type": "stream",
     "text": [
      "Evaluation 1HR: 0.51953125, NGCF: 0.4335114046941214 \n"
     ]
    },
    {
     "name": "stderr",
     "output_type": "stream",
     "text": [
      "Generating data: 100%|██████████| 256/256 [00:01<00:00, 238.59it/s]\n",
      "10it [01:44, 23.76s/it]"
     ]
    },
    {
     "name": "stdout",
     "output_type": "stream",
     "text": [
      "Evaluation 2HR: 0.5, NGCF: 0.42545876050068043 \n",
      "**************\n",
      "**************\n",
      "Running Experiment 10\n"
     ]
    },
    {
     "name": "stderr",
     "output_type": "stream",
     "text": [
      "Generating data: 100%|██████████| 256/256 [00:01<00:00, 130.02it/s]\n"
     ]
    }
   ],
   "source": [
    "hr_list, ngcf_list = run_exps(model_with,data_generator_with,args_with,exp2_,n_times=3)"
   ]
  },
  {
   "cell_type": "code",
   "execution_count": null,
   "metadata": {},
   "outputs": [],
   "source": []
  },
  {
   "cell_type": "code",
   "execution_count": 19,
   "metadata": {},
   "outputs": [
    {
     "name": "stderr",
     "output_type": "stream",
     "text": [
      "0it [00:00, ?it/s]"
     ]
    },
    {
     "name": "stdout",
     "output_type": "stream",
     "text": [
      "**************\n",
      "Running Experiment 0\n"
     ]
    },
    {
     "name": "stderr",
     "output_type": "stream",
     "text": [
      "Generating data: 100%|██████████| 256/256 [00:00<00:00, 22059.86it/s]"
     ]
    },
    {
     "name": "stderr",
     "output_type": "stream",
     "text": [
      "\n",
      "1it [00:00,  2.63it/s]"
     ]
    },
    {
     "name": "stdout",
     "output_type": "stream",
     "text": [
      "Evaluation 0HR: 1.0, NGCF: 0.9817464066270335 \n",
      "**************\n",
      "**************\n",
      "Running Experiment 1\n"
     ]
    },
    {
     "name": "stderr",
     "output_type": "stream",
     "text": [
      "Generating data: 100%|██████████| 256/256 [00:00<00:00, 17596.27it/s]\n",
      "2it [00:00,  2.55it/s]"
     ]
    },
    {
     "name": "stdout",
     "output_type": "stream",
     "text": [
      "Evaluation 0HR: 1.0, NGCF: 0.9754914289481045 \n",
      "**************\n",
      "**************\n",
      "Running Experiment 2\n"
     ]
    },
    {
     "name": "stderr",
     "output_type": "stream",
     "text": [
      "Generating data: 100%|██████████| 256/256 [00:00<00:00, 12506.31it/s]\n",
      "3it [00:01,  2.44it/s]"
     ]
    },
    {
     "name": "stdout",
     "output_type": "stream",
     "text": [
      "Evaluation 0HR: 0.99609375, NGCF: 0.9578431697594749 \n",
      "**************\n",
      "**************\n",
      "Running Experiment 3\n"
     ]
    },
    {
     "name": "stderr",
     "output_type": "stream",
     "text": [
      "Generating data: 100%|██████████| 256/256 [00:00<00:00, 9696.59it/s]\n",
      "4it [00:01,  2.17it/s]"
     ]
    },
    {
     "name": "stdout",
     "output_type": "stream",
     "text": [
      "Evaluation 0HR: 0.99609375, NGCF: 0.924374133734564 \n",
      "**************\n",
      "**************\n",
      "Running Experiment 4\n"
     ]
    },
    {
     "name": "stderr",
     "output_type": "stream",
     "text": [
      "Generating data: 100%|██████████| 256/256 [00:00<00:00, 4531.02it/s]\n",
      "5it [00:02,  1.67it/s]"
     ]
    },
    {
     "name": "stdout",
     "output_type": "stream",
     "text": [
      "Evaluation 0HR: 0.984375, NGCF: 0.8747802087279388 \n",
      "**************\n",
      "**************\n",
      "Running Experiment 5\n"
     ]
    },
    {
     "name": "stderr",
     "output_type": "stream",
     "text": [
      "Generating data: 100%|██████████| 256/256 [00:00<00:00, 3177.87it/s]\n",
      "6it [00:03,  1.22it/s]"
     ]
    },
    {
     "name": "stdout",
     "output_type": "stream",
     "text": [
      "Evaluation 0HR: 0.95703125, NGCF: 0.7481246218198817 \n",
      "**************\n",
      "**************\n",
      "Running Experiment 6\n"
     ]
    },
    {
     "name": "stderr",
     "output_type": "stream",
     "text": [
      "Generating data: 100%|██████████| 256/256 [00:00<00:00, 1615.20it/s]\n",
      "7it [00:06,  1.41s/it]"
     ]
    },
    {
     "name": "stdout",
     "output_type": "stream",
     "text": [
      "Evaluation 0HR: 0.91796875, NGCF: 0.6730311752232023 \n",
      "**************\n",
      "**************\n",
      "Running Experiment 7\n"
     ]
    },
    {
     "name": "stderr",
     "output_type": "stream",
     "text": [
      "Generating data: 100%|██████████| 256/256 [00:00<00:00, 864.71it/s]\n",
      "8it [00:10,  2.36s/it]"
     ]
    },
    {
     "name": "stdout",
     "output_type": "stream",
     "text": [
      "Evaluation 0HR: 0.81640625, NGCF: 0.5863889939134111 \n",
      "**************\n",
      "**************\n",
      "Running Experiment 8\n"
     ]
    },
    {
     "name": "stderr",
     "output_type": "stream",
     "text": [
      "Generating data: 100%|██████████| 256/256 [00:00<00:00, 513.26it/s]\n",
      "9it [00:19,  4.27s/it]"
     ]
    },
    {
     "name": "stdout",
     "output_type": "stream",
     "text": [
      "Evaluation 0HR: 0.66015625, NGCF: 0.46951917761836426 \n",
      "**************\n",
      "**************\n",
      "Running Experiment 9\n"
     ]
    },
    {
     "name": "stderr",
     "output_type": "stream",
     "text": [
      "Generating data: 100%|██████████| 256/256 [00:01<00:00, 240.72it/s]\n",
      "10it [00:35,  8.00s/it]"
     ]
    },
    {
     "name": "stdout",
     "output_type": "stream",
     "text": [
      "Evaluation 0HR: 0.49609375, NGCF: 0.41575824817163154 \n",
      "**************\n",
      "**************\n",
      "Running Experiment 10\n"
     ]
    },
    {
     "name": "stderr",
     "output_type": "stream",
     "text": [
      "Generating data: 100%|██████████| 256/256 [00:02<00:00, 126.92it/s]\n",
      "11it [01:08,  6.19s/it]"
     ]
    },
    {
     "name": "stdout",
     "output_type": "stream",
     "text": [
      "Evaluation 0HR: 0.4375, NGCF: 0.31873914568425255 \n",
      "**************\n"
     ]
    },
    {
     "name": "stderr",
     "output_type": "stream",
     "text": [
      "\n"
     ]
    },
    {
     "data": {
      "image/png": "[encoded data removed]",
      "text/plain": [
       "<Figure size 640x480 with 1 Axes>"
      ]
     },
     "metadata": {},
     "output_type": "display_data"
    }
   ],
   "source": [
    "hr_list, ngcf_list = run_exps(model_with,data_generator_with,args_with,exp2_,n_times=1)"
   ]
  },
  {
   "cell_type": "code",
   "execution_count": null,
   "metadata": {},
   "outputs": [],
   "source": []
  },
  {
   "cell_type": "code",
   "execution_count": null,
   "metadata": {},
   "outputs": [],
   "source": []
  }
 ],
 "metadata": {
  "kernelspec": {
   "display_name": "aml",
   "language": "python",
   "name": "python3"
  },
  "language_info": {
   "codemirror_mode": {
    "name": "ipython",
    "version": 3
   },
   "file_extension": ".py",
   "mimetype": "text/x-python",
   "name": "python",
   "nbconvert_exporter": "python",
   "pygments_lexer": "ipython3",
   "version": "3.10.14"
  }
 },
 "nbformat": 4,
 "nbformat_minor": 2
}
