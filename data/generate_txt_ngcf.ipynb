{
 "cells": [
  {
   "cell_type": "code",
   "execution_count": 1,
   "metadata": {},
   "outputs": [],
   "source": [
    "from generate_elliptic import *\n",
    "import json\n",
    "#autoreload\n",
    "import pandas as pd\n",
    "%load_ext autoreload\n",
    "%autoreload 2\n",
    "import torch.nn as nn"
   ]
  },
  {
   "cell_type": "code",
   "execution_count": 3,
   "metadata": {},
   "outputs": [
    {
     "name": "stdout",
     "output_type": "stream",
     "text": [
      "Loading raw data...\n",
      "Loading node_idx_map...\n",
      "Loading emb...\n",
      "Generating Train Test\n",
      "Number of Receivers:  207\n",
      "Number of Senders:  226\n",
      "Generating Receivers and Senders List\n",
      "Number of all senders: 210\n",
      "Number of all receivers: 195\n",
      "Number of all senders: 59\n",
      "Number of all receivers: 56\n",
      "Creating Train and Test Files\n"
     ]
    },
    {
     "name": "stderr",
     "output_type": "stream",
     "text": [
      "/skunk-pod-storage-mohamed-2eali-2edhraief-40ibm-2ecom-pvc/NGCF-PyTorch/data/generate_elliptic.py:27: SettingWithCopyWarning: \n",
      "A value is trying to be set on a copy of a slice from a DataFrame.\n",
      "Try using .loc[row_indexer,col_indexer] = value instead\n",
      "\n",
      "See the caveats in the documentation: https://pandas.pydata.org/pandas-docs/stable/user_guide/indexing.html#returning-a-view-versus-a-copy\n",
      "  data_df_1_1['senders_mapped'] = data_df_1_1['senders_mapped'].apply(lambda x: list(x)[0])\n",
      "/skunk-pod-storage-mohamed-2eali-2edhraief-40ibm-2ecom-pvc/NGCF-PyTorch/data/generate_elliptic.py:28: SettingWithCopyWarning: \n",
      "A value is trying to be set on a copy of a slice from a DataFrame.\n",
      "Try using .loc[row_indexer,col_indexer] = value instead\n",
      "\n",
      "See the caveats in the documentation: https://pandas.pydata.org/pandas-docs/stable/user_guide/indexing.html#returning-a-view-versus-a-copy\n",
      "  data_df_1_1['receivers_mapped'] = data_df_1_1['receivers_mapped'].apply(lambda x: list(x)[0])\n"
     ]
    }
   ],
   "source": [
    "with open(\"config.json\", 'r') as file:\n",
    "        cfg = json.load(file)\n",
    "data_df, emb = load_raw_data(cfg)   \n",
    "data_df = preprocess_data_df(data_df)\n",
    "print(\"Generating Train Test\")\n",
    "train_df, test_df, mapping_receivers,mapping_senders = generate_train_test(data_df, cfg)\n",
    "\n",
    "print(\"Generating Receivers and Senders List\")\n",
    "tr_receivers, tr_senders_list = get_receivers_to_senders_list(train_df)\n",
    "tst_receivers, tst_senders_list = get_receivers_to_senders_list(test_df)\n",
    "\n",
    "print(\"Creating Train and Test Files\")\n",
    "create_txt_file(tr_receivers, tr_senders_list, f\"{GLOBAL_OUTPUT_DATA}{cfg['output_paths']['train_file']}\")\n",
    "create_txt_file(tst_receivers, tst_senders_list, f\"{GLOBAL_OUTPUT_DATA}{cfg['output_paths']['test_file']}\")\n"
   ]
  },
  {
   "cell_type": "code",
   "execution_count": 5,
   "metadata": {},
   "outputs": [
    {
     "name": "stdout",
     "output_type": "stream",
     "text": [
      "Generating Embeddings\n",
      "Original Length of Senders: 207\n",
      "Added receivers: 36588\n",
      "New Length of Senders: 36633\n",
      "36632 36632\n",
      "Shape of Emb Receivers torch.Size([36633, 43])\n"
     ]
    }
   ],
   "source": [
    "print(\"Generating Embeddings\")\n",
    "mapping_receivers,neg_rec = augment_with_negatives(data_df, mapping_receivers,\"receivers\")\n",
    "emb_receiver = generate_emb(emb, mapping_receivers, f\"{GLOBAL_OUTPUT_DATA}{cfg['output_paths']['emb_receivers']}\")\n",
    "print(\"Shape of Emb Receivers\", emb_receiver.shape)\n"
   ]
  },
  {
   "cell_type": "code",
   "execution_count": 8,
   "metadata": {},
   "outputs": [],
   "source": [
    "rec = data_df[data_df.labels==0].receivers_mapped.explode().unique()\n",
    "for r in rec:\n",
    "    if r not in mapping_receivers.keys():\n",
    "        print(r)"
   ]
  },
  {
   "cell_type": "code",
   "execution_count": 9,
   "metadata": {},
   "outputs": [
    {
     "name": "stdout",
     "output_type": "stream",
     "text": [
      "Original Length of Senders: 226\n",
      "Added senders: 52583\n",
      "New Length of Senders: 52793\n",
      "52792 52792\n",
      "Shape of Emb Senders torch.Size([52793, 43])\n"
     ]
    }
   ],
   "source": [
    "mapping_senders,neg_senders = augment_with_negatives(data_df, mapping_senders,\"senders\")\n",
    "emb_senders = generate_emb(emb, mapping_senders, f\"{GLOBAL_OUTPUT_DATA}{cfg['output_paths']['emb_senders']}\")\n",
    "print(\"Shape of Emb Senders\", emb_senders.shape)"
   ]
  },
  {
   "cell_type": "code",
   "execution_count": 12,
   "metadata": {},
   "outputs": [
    {
     "data": {
      "text/plain": [
       "(36426, 52567)"
      ]
     },
     "execution_count": 12,
     "metadata": {},
     "output_type": "execute_result"
    }
   ],
   "source": [
    "(len(neg_rec),len(neg_senders))"
   ]
  },
  {
   "cell_type": "code",
   "execution_count": 13,
   "metadata": {},
   "outputs": [],
   "source": [
    "with open(f\"{GLOBAL_OUTPUT_DATA}{cfg['output_paths']['neg_senders']}\",'rb') as f:\n",
    "            neg_receivers,neg_items = pickle.load(f)"
   ]
  },
  {
   "cell_type": "code",
   "execution_count": 17,
   "metadata": {},
   "outputs": [
    {
     "data": {
      "text/plain": [
       "(36426, 52567)"
      ]
     },
     "execution_count": 17,
     "metadata": {},
     "output_type": "execute_result"
    }
   ],
   "source": [
    "len(neg_receivers),len(neg_items)"
   ]
  },
  {
   "cell_type": "code",
   "execution_count": 3,
   "metadata": {},
   "outputs": [
    {
     "data": {
      "text/plain": [
       "tensor([[45.2998, 47.7303],\n",
       "        [43.2965, 44.0736]])"
      ]
     },
     "execution_count": 3,
     "metadata": {},
     "output_type": "execute_result"
    }
   ],
   "source": [
    "import torch\n",
    "from einops import einsum\n",
    "\n",
    "# random torch of size 2,3\n",
    "a = torch.rand(2,172)\n",
    "b = torch.rand(2,172)\n",
    "\n",
    "scores = einsum(\n",
    "            a,b, \"i d, j d -> i j\"\n",
    ")\n",
    "scores"
   ]
  },
  {
   "cell_type": "code",
   "execution_count": 2,
   "metadata": {},
   "outputs": [
    {
     "data": {
      "text/plain": [
       "torch.Size([36633, 43])"
      ]
     },
     "execution_count": 2,
     "metadata": {},
     "output_type": "execute_result"
    }
   ],
   "source": [
    "torch.load(\"/skunk-pod-storage-mohamed-2eali-2edhraief-40ibm-2ecom-pvc/NGCF-PyTorch/Data/elliptic/emb_receivers.pt\").shape"
   ]
  },
  {
   "cell_type": "code",
   "execution_count": null,
   "metadata": {},
   "outputs": [],
   "source": []
  }
 ],
 "metadata": {
  "kernelspec": {
   "display_name": "aml",
   "language": "python",
   "name": "python3"
  },
  "language_info": {
   "codemirror_mode": {
    "name": "ipython",
    "version": 3
   },
   "file_extension": ".py",
   "mimetype": "text/x-python",
   "name": "python",
   "nbconvert_exporter": "python",
   "pygments_lexer": "ipython3",
   "version": "3.10.14"
  }
 },
 "nbformat": 4,
 "nbformat_minor": 2
}
